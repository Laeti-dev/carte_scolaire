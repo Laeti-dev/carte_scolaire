{
 "cells": [
  {
   "cell_type": "code",
   "execution_count": null,
   "metadata": {},
   "outputs": [],
   "source": [
    "from dotenv import load_dotenv\n",
    "import os\n",
    "import requests\n",
    "import pandas as pd\n",
    "import matplotlib\n",
    "import plotly as plt"
   ]
  },
  {
   "cell_type": "code",
   "execution_count": null,
   "metadata": {},
   "outputs": [],
   "source": [
    "load_dotenv('.env')\n",
    "TOKEN = os.getenv(\"TOKEN\")\n",
    "\n",
    "headers = {'x-api-key': TOKEN, 'Content-Type':'application/json', 'private': 'true'}"
   ]
  },
  {
   "cell_type": "code",
   "execution_count": null,
   "metadata": {},
   "outputs": [],
   "source": [
    "racine = 'https://www.data.gouv.fr/api/1/'"
   ]
  },
  {
   "cell_type": "code",
   "execution_count": null,
   "metadata": {},
   "outputs": [],
   "source": [
    "session = requests.Session()"
   ]
  },
  {
   "cell_type": "code",
   "execution_count": null,
   "metadata": {},
   "outputs": [],
   "source": [
    "r = session.get(f'{racine}datasets/5889d03fa3a72974cbf0d5b1', headers = headers).json()\n",
    "r"
   ]
  },
  {
   "cell_type": "code",
   "execution_count": null,
   "metadata": {},
   "outputs": [],
   "source": [
    "url = r['resources'][1]['url']\n",
    "url"
   ]
  },
  {
   "cell_type": "code",
   "execution_count": null,
   "metadata": {},
   "outputs": [],
   "source": [
    "json_item = session.get(f'{racine}datasets/5889d03fa3a72974cbf0d5b1/rdf.json').json()\n",
    "json_item"
   ]
  },
  {
   "cell_type": "code",
   "execution_count": null,
   "metadata": {},
   "outputs": [],
   "source": [
    "link = json_item['@graph'][-4]['downloadURL']\n",
    "link"
   ]
  },
  {
   "cell_type": "code",
   "execution_count": null,
   "metadata": {},
   "outputs": [],
   "source": [
    "annuaire =pd.read_csv(link, encoding='latin',sep=';')\n",
    "annuaire = pd.DataFrame(annuaire)"
   ]
  },
  {
   "attachments": {},
   "cell_type": "markdown",
   "metadata": {},
   "source": [
    "DECOUVRIR LE DATAFRAME"
   ]
  },
  {
   "cell_type": "code",
   "execution_count": null,
   "metadata": {},
   "outputs": [],
   "source": [
    "annuaire.info()"
   ]
  },
  {
   "cell_type": "code",
   "execution_count": null,
   "metadata": {},
   "outputs": [],
   "source": [
    "annuaire['Type_etablissement'].unique()"
   ]
  },
  {
   "attachments": {},
   "cell_type": "markdown",
   "metadata": {},
   "source": [
    "SELECTIONNER LES COLLEGES ET LES EREA"
   ]
  },
  {
   "cell_type": "code",
   "execution_count": null,
   "metadata": {},
   "outputs": [],
   "source": [
    "colleges = annuaire.query(\"Type_etablissement == 'Collège' or Type_etablissement == 'EREA'\")"
   ]
  },
  {
   "attachments": {},
   "cell_type": "markdown",
   "metadata": {},
   "source": [
    "COMPRENDRE LA DB"
   ]
  },
  {
   "cell_type": "code",
   "execution_count": null,
   "metadata": {},
   "outputs": [],
   "source": [
    "colleges.info()"
   ]
  },
  {
   "cell_type": "code",
   "execution_count": null,
   "metadata": {},
   "outputs": [],
   "source": [
    "colleges"
   ]
  },
  {
   "cell_type": "code",
   "execution_count": null,
   "metadata": {},
   "outputs": [],
   "source": [
    "colleges['Type_contrat_prive'].unique()"
   ]
  },
  {
   "cell_type": "code",
   "execution_count": null,
   "metadata": {},
   "outputs": [],
   "source": [
    "colleges['libelle_nature'].unique()"
   ]
  },
  {
   "attachments": {},
   "cell_type": "markdown",
   "metadata": {},
   "source": [
    "Type_contrat_prive : contrat d'association\n",
    "\n",
    "LES ÉTABLISSEMENTS PRIVÉS SOUS CONTRAT\n",
    "Les établissements sous contrat d’association avec l’État existent du primaire au secondaire. Reconnus d’office par l’État, ils représentent la grande majorité des établissements privés. Ils ont pour obligation d’accueillir les enfants sans distinction d’origine, d’opinion ou de croyance.\n",
    "\n",
    "L’enseignement y est dispensé conformément aux règles et programmes de l’Éducation nationale. En contrepartie, ces établissements perçoivent de l’État des subventions de fonctionnement et leurs enseignants sont rémunérés par l’Éducation nationale.\n",
    "\n",
    "On y trouve différentes classes spécifiques : bilangues, européennes, CLIS, ULIS, etc.\n",
    "\n",
    "Quel coût ? Concrètement les frais de scolarité peuvent atteindre 1 000 euros par an (hors demi-pension) et beaucoup plus dans le supérieur : 7 000 à 15 000 euros par an pour certains établissements.\n",
    "\n",
    "Quelle aide financière ? Le quotient familial est souvent pris en compte dans le calcul des frais de scolarité et les élèves concernés peuvent bénéficier de bourses d’études.\n",
    "\n",
    "LES ÉTABLISSEMENTS PRIVÉS HORS CONTRAT\n",
    "\n",
    "Les établissements privés désignés comme \"hors contrat\" (15 % des établissements privés, soit un peu plus de 2 000 établissements) concernent tous les établissements d’enseignement privés qui n'ont pas signé d'accord avec l’Éducation nationale et ne perçoivent donc aucune subvention de l’État.\n",
    "\n",
    "Ils doivent effectuer une déclaration d’ouverture auprès du rectorat, mais sont peu contrôlés par l’État (contrôle pédagogique et administratif). En revanche, ils peuvent solliciter une reconnaissance de l’État.\n",
    "\n",
    "Ils concernent l’enseignement primaire, secondaire ou bien supérieur, en délivrant leurs propres formations artistiques, commerciales, scientifiques (sans reconnaissance nationale), ainsi que des préparations aux diplômes d’État type BTS.\n",
    "\n",
    "Quel coût ? Les frais de scolarité peuvent être élevés : de 6 000 à 15 000 euros par an, voire beaucoup plus (jusqu’à 30 000 euros !).\n",
    "\n",
    "Quelle aide financière ? Certaines écoles peuvent être habilitées à recevoir des boursiers à condition que l’établissement soit reconnu par l'État.\n",
    "\n",
    "source: https://www.onisep.fr/Parents/comprendre-l-organisation-des-etudes-superieures-pour-echanger-avec-votre-enfant/les-etablissements-prives-quels-statuts\n"
   ]
  },
  {
   "attachments": {},
   "cell_type": "markdown",
   "metadata": {},
   "source": [
    "Les unités localisées pour l'inclusion scolaire (ULIS)\n",
    "\n",
    "Les élèves scolarisés au titre des ULIS présentent des troubles des fonctions cognitives ou mentales, des troubles spécifiques du langage et des apprentissages, des troubles envahissants du développement (dont l'autisme),  des troubles des fonctions motrices, des troubles de la fonction auditive, des troubles de la fonction visuelle ou des troubles multiples associés (pluri-handicap ou maladies invalidantes).\n",
    "\n",
    "Ce sont les commissions des droits et de l'autonomie des personnes handicapées (CDAPH) qui décident de l'orientation d'un élève vers une ULIS qui lui offre la possibilité de poursuivre en inclusion des apprentissages adaptés à ses potentialités et besoins et d'acquérir des compétences sociales et scolaires, même lorsque ses acquis sont très réduits.\n",
    "\n",
    "Source: https://eduscol.education.fr/1164/les-unites-localisees-pour-l-inclusion-scolaire-ulis"
   ]
  },
  {
   "attachments": {},
   "cell_type": "markdown",
   "metadata": {},
   "source": [
    "Une classe Segpa: Segpa : Section d'enseignement général et professionnel adapté accueille les jeunes de la 6e à la 3e présentant des difficultés scolaires importantes. Il s'agit de difficultés ne pouvant pas être résolues par des actions d'aide scolaire et de soutien.\n",
    "\n",
    "La classe est intégrée dans un collège. Elle regroupe un petit groupe d'élèves (16 maximum) pour individualiser le parcours de chacun.\n",
    "\n",
    "La Segpa doit permettre à votre enfant d'accéder à une formation professionnelle diplômante ou à la poursuite de leurs études après la 3e.\n",
    "\n",
    "\n",
    "\n",
    "Comment intégrer la Segpa ?\n",
    "Orientation après le CM2\n",
    "En fin de CM1, si votre enfant rencontre de graves difficultés scolaires, l'équipe pédagogique peut vous proposer d'adapter sa scolarité pour l'année de CM2. Cela passe notamment par des actions de prévention, d'aide et de soutien individualisé.\n",
    "\n",
    "Si les difficultés scolaires ne sont pas résolues pendant l'année de CM2, le conseil des maîtres peut vous proposer une orientation en classe Segpa. Dans ce cas, le conseil des maîtres vous reçoit pour vous présenter le dispositif. Vous pouvez décider d'accepter ou de refuser l'orientation en Segpa. Si vous refusez la proposition, votre enfant est affecté en 6e ordinaire.\n",
    "\n",
    "Orientation au cours de scolarité au collège\n",
    "En fin d'année de 6e, le conseil de classe peut estimer que les difficultés scolaires de votre enfant sont trop importantes pour être résolues avec un dispositif d'aide.\n",
    "\n",
    "Dans ce cas, avant le conseil de classe du deuxième trimestre, le chef d'établissement vous informe de l'éventualité d'une orientation en Segpa et vous présente le dispositif.\n",
    "\n",
    "Une orientation en classe Segpa peut vous être proposée par le conseil de classe du deuxième trimestre. Vous pouvez décider de l'accepter ou de la refuser. Si vous refusez la proposition, votre enfant est affecté en 5e ordinaire. Il bénéficiera d'un accompagnement pédagogique particulier.\n",
    "\n",
    "Exceptionnellement, votre enfant peut aussi entrer en Segpa en classe de 4e.\n",
    "\n",
    "source: https://www.service-public.fr/particuliers/vosdroits/F32752"
   ]
  },
  {
   "attachments": {},
   "cell_type": "markdown",
   "metadata": {},
   "source": [
    "Les regroupements pédagogiques intercommunaux (RPI) permettent à plusieurs communes, notamment en milieu rural, de se réunir pour l'établissement et l'entretien d'une école. Les dépenses sont alors réparties entre les communes selon les termes de l'accord conclu, fixant notamment les conditions de répartition des charges des écoles regroupées.\n",
    "\n",
    "Il existe des RPI dispersés dans lesquels chaque école réunit les élèves de plusieurs communes par niveau pédagogique et les RPI concentrés dans lesquels l’ensemble des élèves des communes concernées est scolarisé dans l’école d’une des communes.\n",
    "\n",
    "source: https://www.banquedesterritoires.fr/regroupement-pedagogique-intercommunal-rpi-sous-quelle-forme-peut-il-etre-constitue"
   ]
  },
  {
   "attachments": {},
   "cell_type": "markdown",
   "metadata": {},
   "source": [
    "SUPPRIMER LES COLONNES INUTILES"
   ]
  },
  {
   "cell_type": "code",
   "execution_count": null,
   "metadata": {},
   "outputs": [],
   "source": [
    "colleges.drop(columns=['Identifiant_de_l_etablissement','Adresse_2','Adresse_3','Code_commune','Nom_commune','Ecole_maternelle','Ecole_elementaire','Voie_generale','Voie_technologique','Voie_professionnelle','Telephone','Fax','Web','Mail','Lycee_des_metiers','Apprentissage','Lycee_Agricole','Lycee_militaire','GRETA','SIREN_SIRET','Fiche_onisep','nom_circonscription','code_nature'], inplace=True)"
   ]
  },
  {
   "cell_type": "code",
   "execution_count": null,
   "metadata": {},
   "outputs": [],
   "source": [
    "colleges"
   ]
  },
  {
   "cell_type": "code",
   "execution_count": null,
   "metadata": {},
   "outputs": [],
   "source": [
    "colleges['libelle_nature'].unique()"
   ]
  },
  {
   "cell_type": "code",
   "execution_count": null,
   "metadata": {},
   "outputs": [],
   "source": [
    "colleges.drop(columns=['Nom_etablissement','Adresse_1','precision_localisation','ministere_tutelle', 'multi_uai'], inplace=True)"
   ]
  },
  {
   "cell_type": "code",
   "execution_count": null,
   "metadata": {},
   "outputs": [],
   "source": [
    "colleges.drop(columns=['Post_BAC'], inplace=True)"
   ]
  },
  {
   "cell_type": "code",
   "execution_count": null,
   "metadata": {},
   "outputs": [],
   "source": [
    "colleges.drop(columns=['rpi_disperse'], inplace=True)"
   ]
  },
  {
   "cell_type": "code",
   "execution_count": null,
   "metadata": {},
   "outputs": [],
   "source": [
    "colleges"
   ]
  },
  {
   "cell_type": "code",
   "execution_count": null,
   "metadata": {},
   "outputs": [],
   "source": [
    "colleges.info()"
   ]
  },
  {
   "attachments": {},
   "cell_type": "markdown",
   "metadata": {},
   "source": [
    "TYPES COLLEGES"
   ]
  },
  {
   "cell_type": "code",
   "execution_count": null,
   "metadata": {},
   "outputs": [],
   "source": [
    "colleges_types = colleges.filter(['Statut_public_prive', 'Code_academie','Libelle_academie', 'Nombre_d_eleves'])"
   ]
  },
  {
   "cell_type": "code",
   "execution_count": null,
   "metadata": {},
   "outputs": [],
   "source": [
    "colleges_types"
   ]
  },
  {
   "cell_type": "code",
   "execution_count": null,
   "metadata": {},
   "outputs": [],
   "source": [
    "colleges_types.groupby(by='Statut_public_prive').agg({'Nombre_d_eleves': 'sum', 'Libelle_academie': 'count'}).reset_index()"
   ]
  },
  {
   "cell_type": "code",
   "execution_count": null,
   "metadata": {},
   "outputs": [],
   "source": [
    "repartition_par_academie = pd.pivot_table(data=colleges_types, index=['Code_academie', 'Libelle_academie'], columns='Statut_public_prive', values='Nombre_d_eleves', aggfunc='sum').reset_index()"
   ]
  },
  {
   "cell_type": "code",
   "execution_count": null,
   "metadata": {},
   "outputs": [],
   "source": [
    "repartition_par_academie['nb_d_eleves'] = repartition_par_academie['Privé'] + repartition_par_academie['Public']"
   ]
  },
  {
   "cell_type": "code",
   "execution_count": null,
   "metadata": {},
   "outputs": [],
   "source": [
    "repartition_par_academie['Ratio_prive'] = round((repartition_par_academie['Privé']/repartition_par_academie['nb_d_eleves'])*100,2)\n",
    "repartition_par_academie['Ratio_public'] = round((repartition_par_academie['Public']/repartition_par_academie['nb_d_eleves'])*100,2)"
   ]
  },
  {
   "cell_type": "code",
   "execution_count": null,
   "metadata": {},
   "outputs": [],
   "source": [
    "repartition_par_academie"
   ]
  },
  {
   "cell_type": "code",
   "execution_count": null,
   "metadata": {},
   "outputs": [],
   "source": []
  },
  {
   "cell_type": "code",
   "execution_count": null,
   "metadata": {},
   "outputs": [],
   "source": []
  }
 ],
 "metadata": {
  "kernelspec": {
   "display_name": "base",
   "language": "python",
   "name": "python3"
  },
  "language_info": {
   "codemirror_mode": {
    "name": "ipython",
    "version": 3
   },
   "file_extension": ".py",
   "mimetype": "text/x-python",
   "name": "python",
   "nbconvert_exporter": "python",
   "pygments_lexer": "ipython3",
   "version": "3.9.18"
  },
  "orig_nbformat": 4,
  "vscode": {
   "interpreter": {
    "hash": "94c02ad1f7406f8132ba763e7b2bfcc1f1a8bb8920d12bc95b0b556ce3363b73"
   }
  }
 },
 "nbformat": 4,
 "nbformat_minor": 2
}
